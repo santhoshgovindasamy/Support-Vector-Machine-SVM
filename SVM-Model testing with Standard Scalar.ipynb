{
 "cells": [
  {
   "cell_type": "code",
   "execution_count": 34,
   "id": "cd3bf9fe-7117-480b-ad03-c3099b592499",
   "metadata": {},
   "outputs": [],
   "source": [
    "#importing pandas libary to our code to load & process the data\n",
    "import pandas as pd"
   ]
  },
  {
   "cell_type": "code",
   "execution_count": 35,
   "id": "5a143fa5-ec87-4cdd-9614-a332f7ff2e11",
   "metadata": {},
   "outputs": [],
   "source": [
    "#read_csv in pandas used to read CSV file\n",
    "dataset=pd.read_csv(\"50_Startups.csv\")"
   ]
  },
  {
   "cell_type": "code",
   "execution_count": 36,
   "id": "4559a190-90de-4d6f-b0b9-908d8f40a10d",
   "metadata": {},
   "outputs": [],
   "source": [
    "dataset=pd.get_dummies(dataset,dtype=int,drop_first=True,)"
   ]
  },
  {
   "cell_type": "code",
   "execution_count": 37,
   "id": "f80ba2b0-9263-4c0f-b933-b0fc19ba6a37",
   "metadata": {},
   "outputs": [],
   "source": [
    "#extracting independent/input from loaded data\n",
    "independent=dataset[['R&D Spend', 'Administration', 'Marketing Spend','State_Florida', 'State_New York']]\n"
   ]
  },
  {
   "cell_type": "code",
   "execution_count": 38,
   "id": "efac8172-6343-4f1c-8aeb-dfaf54559735",
   "metadata": {},
   "outputs": [],
   "source": [
    "#extracting dependent/output from loaded data\n",
    "dependent=dataset[[\"Profit\"]]\n"
   ]
  },
  {
   "cell_type": "code",
   "execution_count": 39,
   "id": "c5260d11-cc69-40ac-90f2-54954afac5c5",
   "metadata": {},
   "outputs": [],
   "source": [
    "#importing sklearn train_test_split function/model to the code\n",
    "from sklearn.model_selection import train_test_split"
   ]
  },
  {
   "cell_type": "code",
   "execution_count": 40,
   "id": "edcba489-be51-4962-86c1-9846727b131c",
   "metadata": {},
   "outputs": [],
   "source": [
    "#spliting train and test dataset via random_state\n",
    "X_train,X_test,Y_train,Y_test=train_test_split(independent,dependent,test_size=0.3,random_state=0)\n"
   ]
  },
  {
   "cell_type": "code",
   "execution_count": 41,
   "id": "a938ae67-8cb7-40fc-9ecd-fa047debc9c9",
   "metadata": {},
   "outputs": [],
   "source": [
    "\n",
    "from sklearn.preprocessing import StandardScaler\n",
    "sc=StandardScaler()\n",
    "X_train=sc.fit_transform(X_train)\n",
    "X_test=sc.transform(X_test)\n"
   ]
  },
  {
   "cell_type": "code",
   "execution_count": 42,
   "id": "1b2d47ac-7601-4f0f-b9b6-53226121ee0c",
   "metadata": {},
   "outputs": [
    {
     "name": "stderr",
     "output_type": "stream",
     "text": [
      "C:\\ProgramData\\anaconda3\\Lib\\site-packages\\sklearn\\utils\\validation.py:1143: DataConversionWarning: A column-vector y was passed when a 1d array was expected. Please change the shape of y to (n_samples, ), for example using ravel().\n",
      "  y = column_or_1d(y, warn=True)\n"
     ]
    },
    {
     "data": {
      "text/plain": [
       "0.8956744694334916"
      ]
     },
     "execution_count": 42,
     "metadata": {},
     "output_type": "execute_result"
    }
   ],
   "source": [
    "#importing linear regression model from sklearn and creating model using train data\n",
    "from sklearn.svm import SVR\n",
    "regressor=SVR(kernel=\"linear\",C=3000)\n",
    "regressor.fit(X_train,Y_train)\n",
    "\n",
    "#predicting the predicted result by using test data\n",
    "y_pred=regressor.predict(X_test)\n",
    "\n",
    "#comparing the predicted result with test result and checking the quality of the model\n",
    "from sklearn.metrics import r2_score\n",
    "r_score=r2_score(Y_test,y_pred)\n",
    "r_score"
   ]
  },
  {
   "cell_type": "code",
   "execution_count": 43,
   "id": "9ede3326-1275-4438-ac4c-5160c926c2e7",
   "metadata": {},
   "outputs": [],
   "source": [
    "#importing pickle to saving the created model for deploynment \n",
    "import pickle\n",
    "filename=\"SVM_regression_with_Standard_scalar.sav\"\n",
    "\n",
    "#save to file as writebinary mode\n",
    "pickle.dump(regressor,open(filename,'wb'))"
   ]
  },
  {
   "cell_type": "code",
   "execution_count": null,
   "id": "50886518-047b-4058-9fae-509998e563e0",
   "metadata": {},
   "outputs": [],
   "source": []
  },
  {
   "cell_type": "code",
   "execution_count": null,
   "id": "cec6c003-11fa-4371-a3ba-761b9ade2cdf",
   "metadata": {},
   "outputs": [],
   "source": []
  }
 ],
 "metadata": {
  "kernelspec": {
   "display_name": "Python 3 (ipykernel)",
   "language": "python",
   "name": "python3"
  },
  "language_info": {
   "codemirror_mode": {
    "name": "ipython",
    "version": 3
   },
   "file_extension": ".py",
   "mimetype": "text/x-python",
   "name": "python",
   "nbconvert_exporter": "python",
   "pygments_lexer": "ipython3",
   "version": "3.11.7"
  }
 },
 "nbformat": 4,
 "nbformat_minor": 5
}
