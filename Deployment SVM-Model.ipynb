{
 "cells": [
  {
   "cell_type": "code",
   "execution_count": 1,
   "id": "b19f260a-a4fd-49b2-bc72-9e0974a24f11",
   "metadata": {},
   "outputs": [],
   "source": [
    "import pickle\n",
    "filename=\"SVM_regression_with_Standard_scalar.sav\""
   ]
  },
  {
   "cell_type": "code",
   "execution_count": 2,
   "id": "0895dc6f-2b6e-4c0c-b585-8e2502677bec",
   "metadata": {},
   "outputs": [
    {
     "data": {
      "text/plain": [
       "array([6.97429143e+09])"
      ]
     },
     "execution_count": 2,
     "metadata": {},
     "output_type": "execute_result"
    }
   ],
   "source": [
    "#loading the saved model(read binary mode) and testing it \n",
    "load_model=pickle.load(open(filename,'rb'))\n",
    "result=load_model.predict([[130298.13,145530.06,323876.68,1,0]])\n",
    "result"
   ]
  },
  {
   "cell_type": "code",
   "execution_count": null,
   "id": "e9beb642-c242-40df-a38a-351935832592",
   "metadata": {},
   "outputs": [],
   "source": []
  }
 ],
 "metadata": {
  "kernelspec": {
   "display_name": "Python 3 (ipykernel)",
   "language": "python",
   "name": "python3"
  },
  "language_info": {
   "codemirror_mode": {
    "name": "ipython",
    "version": 3
   },
   "file_extension": ".py",
   "mimetype": "text/x-python",
   "name": "python",
   "nbconvert_exporter": "python",
   "pygments_lexer": "ipython3",
   "version": "3.11.7"
  }
 },
 "nbformat": 4,
 "nbformat_minor": 5
}
